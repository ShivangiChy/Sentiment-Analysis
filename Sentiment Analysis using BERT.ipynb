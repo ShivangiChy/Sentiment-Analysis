{
  "nbformat": 4,
  "nbformat_minor": 0,
  "metadata": {
    "colab": {
      "provenance": [],
      "gpuType": "T4",
      "authorship_tag": "ABX9TyMQvkOPsq7gwqcDwIv0mTsT",
      "include_colab_link": true
    },
    "kernelspec": {
      "name": "python3",
      "display_name": "Python 3"
    },
    "language_info": {
      "name": "python"
    },
    "accelerator": "GPU"
  },
  "cells": [
    {
      "cell_type": "markdown",
      "metadata": {
        "id": "view-in-github",
        "colab_type": "text"
      },
      "source": [
        "<a href=\"https://colab.research.google.com/github/ShivangiChy/Sentiment-Analysis/blob/main/Sentiment%20Analysis%20using%20BERT.ipynb\" target=\"_parent\"><img src=\"https://colab.research.google.com/assets/colab-badge.svg\" alt=\"Open In Colab\"/></a>"
      ]
    },
    {
      "cell_type": "code",
      "execution_count": null,
      "metadata": {
        "id": "k4KL4ZZfuTH8"
      },
      "outputs": [],
      "source": [
        "!pip install transformers\n",
        "!pip install datasets\n",
        "!pip install scikit-learn\n"
      ]
    },
    {
      "cell_type": "code",
      "source": [
        "import pandas as pd\n",
        "import numpy as np\n",
        "from sklearn.model_selection import train_test_split\n",
        "from sklearn.metrics import classification_report, accuracy_score, f1_score\n",
        "from datasets import Dataset\n",
        "from transformers import BertTokenizer, BertForSequenceClassification, Trainer, TrainingArguments\n",
        "import torch\n"
      ],
      "metadata": {
        "id": "HcCBVgq3va0a"
      },
      "execution_count": null,
      "outputs": []
    },
    {
      "cell_type": "code",
      "source": [
        "from datasets import load_dataset\n",
        "\n",
        "dataset = load_dataset(\"imdb\")\n",
        "\n",
        "print(dataset)\n"
      ],
      "metadata": {
        "id": "mv9QvSLPzKoW"
      },
      "execution_count": null,
      "outputs": []
    },
    {
      "cell_type": "code",
      "source": [
        "from transformers import BertTokenizer\n",
        "\n",
        "tokenizer = BertTokenizer.from_pretrained('bert-base-uncased')\n",
        "\n",
        "def tokenize_function(examples):\n",
        "    return tokenizer(examples['text'], padding='max_length', truncation=True)\n",
        "\n",
        "dataset = dataset.map(tokenize_function, batched=True)\n",
        "\n",
        "dataset.set_format(type='torch', columns=['input_ids', 'attention_mask', 'label'])\n",
        "\n",
        "print(dataset['train'][0])\n"
      ],
      "metadata": {
        "id": "hHO_Ye7S2RTs"
      },
      "execution_count": null,
      "outputs": []
    },
    {
      "cell_type": "code",
      "source": [
        "import numpy as np\n",
        "import pandas as pd\n",
        "from datasets import load_dataset\n",
        "from transformers import BertTokenizer, BertForSequenceClassification\n",
        "from transformers import Trainer, TrainingArguments\n",
        "from sklearn.metrics import classification_report, confusion_matrix\n",
        "import torch\n",
        "import seaborn as sns\n",
        "import matplotlib.pyplot as plt\n"
      ],
      "metadata": {
        "id": "b4wvWM7910hA"
      },
      "execution_count": null,
      "outputs": []
    },
    {
      "cell_type": "code",
      "source": [
        "print(f\"Train Set Size: {len(dataset['train'])}\")\n",
        "print(f\"Test Set Size: {len(dataset['test'])}\")\n"
      ],
      "metadata": {
        "id": "4XpLBtF1zjSN"
      },
      "execution_count": null,
      "outputs": []
    },
    {
      "cell_type": "code",
      "source": [
        "model = BertForSequenceClassification.from_pretrained('bert-base-uncased', num_labels=2)\n",
        "\n",
        "print(model)\n"
      ],
      "metadata": {
        "id": "qLCoyS4s28FL"
      },
      "execution_count": null,
      "outputs": []
    },
    {
      "cell_type": "code",
      "source": [
        "training_args = TrainingArguments(\n",
        "    output_dir='./results',          # Output directory\n",
        "    evaluation_strategy=\"epoch\",     # Evaluate every epoch\n",
        "    save_strategy=\"epoch\",           # Save model every epoch\n",
        "    learning_rate=2e-5,              # Learning rate\n",
        "    per_device_train_batch_size=16,  # Batch size for training\n",
        "    per_device_eval_batch_size=16,   # Batch size for evaluation\n",
        "    num_train_epochs=3,              # Number of epochs\n",
        "    weight_decay=0.01,               # Weight decay for optimization\n",
        "    logging_dir='./logs',            # Logging directory\n",
        ")\n"
      ],
      "metadata": {
        "id": "WPN-mVu14rHH"
      },
      "execution_count": null,
      "outputs": []
    },
    {
      "cell_type": "code",
      "source": [
        "trainer = Trainer(\n",
        "    model=model,                         # The model to train\n",
        "    args=training_args,                  # Training arguments\n",
        "    train_dataset=dataset['train'],      # Training dataset\n",
        "    eval_dataset=dataset['test'],       # Evaluation dataset\n",
        "    tokenizer=tokenizer                  # Tokenizer to preprocess text\n",
        ")\n"
      ],
      "metadata": {
        "id": "tdnPbkdz4vNX"
      },
      "execution_count": null,
      "outputs": []
    },
    {
      "cell_type": "code",
      "source": [
        "trainer.train()\n"
      ],
      "metadata": {
        "id": "0CkV8utR4zUo"
      },
      "execution_count": null,
      "outputs": []
    },
    {
      "cell_type": "code",
      "source": [
        "eval_results = trainer.evaluate()\n",
        "\n",
        "print(eval_results)\n"
      ],
      "metadata": {
        "id": "dIeq3SsZPON_"
      },
      "execution_count": null,
      "outputs": []
    },
    {
      "cell_type": "code",
      "source": [
        "\n",
        "predictions = trainer.predict(dataset['test'])\n",
        "\n",
        "# Get predicted labels\n",
        "preds = np.argmax(predictions.predictions, axis=1)\n",
        "\n",
        "\n",
        "true_labels = predictions.label_ids\n",
        "\n",
        "\n",
        "print(classification_report(true_labels, preds, target_names=['negative', 'positive']))\n",
        "\n",
        "# confusion matrix\n",
        "cm = confusion_matrix(true_labels, preds)\n",
        "\n",
        "# Plot confusion matrix\n",
        "sns.heatmap(cm, annot=True, fmt='d', cmap='Blues', xticklabels=['negative', 'positive'], yticklabels=['negative', 'positive'])\n",
        "plt.xlabel('Predicted')\n",
        "plt.ylabel('True')\n",
        "plt.title('Confusion Matrix')\n",
        "plt.show()\n"
      ],
      "metadata": {
        "id": "txafjuHJPO73"
      },
      "execution_count": null,
      "outputs": []
    },
    {
      "cell_type": "code",
      "source": [
        "# Save the model and tokenizer\n",
        "model.save_pretrained('./sentiment_model')\n",
        "tokenizer.save_pretrained('./sentiment_tokenizer')\n"
      ],
      "metadata": {
        "id": "aRMMF5OdPSoi"
      },
      "execution_count": null,
      "outputs": []
    },
    {
      "cell_type": "code",
      "source": [
        "# Check the dataset structure\n",
        "print(dataset)"
      ],
      "metadata": {
        "id": "VXPBbQacoYHT"
      },
      "execution_count": null,
      "outputs": []
    },
    {
      "cell_type": "code",
      "source": [
        "# Display the first 5 rows of the training dataset\n",
        "print(dataset['train'][:5])\n"
      ],
      "metadata": {
        "id": "KMXqh0Ojpq7A"
      },
      "execution_count": null,
      "outputs": []
    },
    {
      "cell_type": "code",
      "source": [
        "# Count positive and negative sentiment labels in the training data\n",
        "positive_count_train = sum(dataset['train']['label'] == 1)\n",
        "negative_count_train = sum(dataset['train']['label'] == 0)\n",
        "\n",
        "# Count positive and negative sentiment labels in the test data\n",
        "positive_count_test = sum(dataset['test']['label'] == 1)\n",
        "negative_count_test = sum(dataset['test']['label'] == 0)\n",
        "\n",
        "print(f\"Training set - Positive: {positive_count_train}, Negative: {negative_count_train}\")\n",
        "print(f\"Test set - Positive: {positive_count_test}, Negative: {negative_count_test}\")\n"
      ],
      "metadata": {
        "id": "zQMZ8P7Cp63x"
      },
      "execution_count": null,
      "outputs": []
    },
    {
      "cell_type": "code",
      "source": [
        "from datasets import load_dataset\n",
        "\n",
        "# Step 1: Load the IMDb dataset\n",
        "dataset = load_dataset('imdb')\n",
        "\n",
        "# Step 2: Map the label (0, 1) to sentiment (negative, positive)\n",
        "def map_sentiment(label):\n",
        "    if label == 1:\n",
        "        return \"positive\"\n",
        "    else:\n",
        "        return \"negative\"\n",
        "\n",
        "# Step 3: Add sentiment labels to the dataset (train and test)\n",
        "dataset['train'] = dataset['train'].map(lambda x: {'sentiment': map_sentiment(x['label'])})\n",
        "dataset['test'] = dataset['test'].map(lambda x: {'sentiment': map_sentiment(x['label'])})\n",
        "\n",
        "\n",
        "for i in range(5):  # Loop through the first 5 entries\n",
        "    review = dataset['train'][i]\n",
        "    print(f\"Review: {review['text']}\")\n",
        "    print(f\"Sentiment: {review['sentiment']}\")\n",
        "    print('-' * 100)\n"
      ],
      "metadata": {
        "id": "Z6mlJ2hEqhRO"
      },
      "execution_count": null,
      "outputs": []
    },
    {
      "cell_type": "code",
      "source": [
        "from datasets import load_dataset\n",
        "\n",
        "dataset = load_dataset('imdb')\n",
        "\n",
        "def map_sentiment(label):\n",
        "    if label == 1:\n",
        "        return \"positive\"\n",
        "    else:\n",
        "        return \"negative\"\n",
        "\n",
        "dataset['train'] = dataset['train'].map(lambda x: {'sentiment': map_sentiment(x['label'])})\n",
        "dataset['test'] = dataset['test'].map(lambda x: {'sentiment': map_sentiment(x['label'])})\n",
        "\n",
        "positive_count = 0\n",
        "negative_count = 0\n",
        "\n",
        "for review in dataset['train']:\n",
        "    if positive_count < 5 and review['sentiment'] == 'positive':\n",
        "        print(f\"Review: {review['text']}\")\n",
        "        print(f\"Sentiment: {review['sentiment']}\")\n",
        "        print('-' * 100)\n",
        "        positive_count += 1\n",
        "\n",
        "    if negative_count < 5 and review['sentiment'] == 'negative':\n",
        "        print(f\"Review: {review['text']}\")\n",
        "        print(f\"Sentiment: {review['sentiment']}\")\n",
        "        print('-' * 100)\n",
        "        negative_count += 1\n",
        "\n",
        "    if positive_count >= 5 and negative_count >= 5:\n",
        "        break\n"
      ],
      "metadata": {
        "id": "IH2hLOF5q4uP"
      },
      "execution_count": null,
      "outputs": []
    },
    {
      "cell_type": "code",
      "source": [
        "from transformers import BertTokenizer, BertForSequenceClassification\n",
        "import torch\n",
        "import numpy as np\n",
        "\n",
        "# pre-trained tokenizer and model\n",
        "tokenizer = BertTokenizer.from_pretrained('bert-base-uncased')\n",
        "model = BertForSequenceClassification.from_pretrained('./sentiment_model')  # Path to your trained model directory\n",
        "\n",
        "=def predict_sentiment(text):\n",
        "    # Tokenize and encode the input text\n",
        "    inputs = tokenizer(text, return_tensors=\"pt\", padding=True, truncation=True, max_length=512)\n",
        "\n",
        "\n",
        "    with torch.no_grad():\n",
        "        outputs = model(**inputs)\n",
        "\n",
        "\n",
        "    logits = outputs.logits\n",
        "    prediction = torch.argmax(logits, dim=1).item()\n",
        "\n",
        "    # Map\n",
        "    sentiment = \"positive\" if prediction == 1 else \"negative\"\n",
        "\n",
        "    return sentiment\n",
        "\n",
        "#testing with custom sentences\n",
        "new_statement = \"Wow, another groundbreaking movie—if groundbreaking means incredibly boring.\"\n",
        "predicted_sentiment = predict_sentiment(new_statement)\n",
        "\n",
        "print(f\"Sentiment: {predicted_sentiment}\")\n"
      ],
      "metadata": {
        "id": "VtXIDBzPrlAU"
      },
      "execution_count": null,
      "outputs": []
    }
  ]
}